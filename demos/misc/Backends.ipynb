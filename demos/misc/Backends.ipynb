{
 "cells": [
  {
   "attachments": {},
   "cell_type": "markdown",
   "metadata": {},
   "source": [
    "# Available backends and their usage\n",
    "\n",
    "There are many backends available with CUDA Quantum which enable seamless switching between GPUs, QPUs and CPUs and also allow for workflows involing multiple architectures working in tandem. "
   ]
  },
  {
   "cell_type": "code",
   "execution_count": 1,
   "metadata": {},
   "outputs": [],
   "source": [
    "import cudaq\n",
    "\n",
    "targets = cudaq.get_targets() \n",
    "\n",
    "# for t in targets: \n",
    "#     print(t)"
   ]
  },
  {
   "attachments": {},
   "cell_type": "markdown",
   "metadata": {},
   "source": [
    "- **default**: The default qpp based CPU backend which is multithreaded to maximise the usage of available cores on your system.\n",
    "\n",
    "- **nvidia**: GPU based backend which accelerates quantum circuit simulation on NVIDIA GPUs powered by cuQuantum.\n",
    "\n",
    "- **nvidia-mqpu**: Enables users to program workflows utilizing multiple quantum processors enabled today by GPU emulation. \n",
    "\n",
    "- **nvidia-mgpu**: Allows for scaling circuit simulation beyond what is feasible with any QPU today. \n",
    "\n",
    "- **density-matrix-cpu**: Noisy simulations via density matrix calculations. CPU only for now with GPU support coming soon. \n",
    "\n",
    "Below we explore some of the workflows made possible by these backends."
   ]
  },
  {
   "cell_type": "code",
   "execution_count": 3,
   "metadata": {},
   "outputs": [],
   "source": [
    "#Lets define a function which allows us to generate a n qubit GHZ state \n",
    "\n",
    "import cudaq\n",
    "\n",
    "def ghz_state(n_qubits, target): \n",
    "\n",
    "    cudaq.set_target(target)\n",
    "\n",
    "    kernel = cudaq.make_kernel()\n",
    "\n",
    "    qubits = kernel.qalloc(n_qubits)\n",
    "\n",
    "    kernel.h(qubits[0])\n",
    "\n",
    "    for i in range(1, n_qubits):\n",
    "        kernel.cx(qubits[0], qubits[i])\n",
    "        \n",
    "    kernel.mz(qubits)\n",
    "\n",
    "    result = cudaq.sample(kernel, shots_count = 1000)\n",
    "\n",
    "    return result \n"
   ]
  },
  {
   "attachments": {},
   "cell_type": "markdown",
   "metadata": {},
   "source": [
    "# Default CPU backend \n",
    "\n"
   ]
  },
  {
   "cell_type": "code",
   "execution_count": 3,
   "metadata": {},
   "outputs": [
    {
     "name": "stdout",
     "output_type": "stream",
     "text": [
      "{ 00:468 11:532 }\n"
     ]
    }
   ],
   "source": [
    "cpu_result = ghz_state(n_qubits = 2, target = 'default')\n",
    "\n",
    "cpu_result.dump()"
   ]
  },
  {
   "attachments": {},
   "cell_type": "markdown",
   "metadata": {},
   "source": [
    "# Acceleration via NVIDIA GPUs\n",
    "\n",
    "Users will notice a **200x speedup** in executing the circuit below on NVIDIA GPUs vs CPUs."
   ]
  },
  {
   "cell_type": "code",
   "execution_count": 4,
   "metadata": {},
   "outputs": [
    {
     "name": "stdout",
     "output_type": "stream",
     "text": [
      "{ 0000000000000000000000000:512 1111111111111111111111111:488 }\n"
     ]
    }
   ],
   "source": [
    "gpu_result = ghz_state(n_qubits = 25, target = 'nvidia')\n",
    "\n",
    "gpu_result.dump()"
   ]
  },
  {
   "attachments": {},
   "cell_type": "markdown",
   "metadata": {},
   "source": [
    "# Multiple NVIDIA GPUs\n",
    "\n",
    "A $n$ qubit quantum state has $2^n$ complex amplitudes, each of which require 8 bytes of memory to store. Hence the total memory required to store a $n$ qubit quantum state is $8$ bytes $\\times 2^n$. For $n = 30$ qubits, this is roughly $8$ GB but for $n = 40$, this exponentially increases to 8700 GB. \n",
    "\n",
    "If one incrementally increases the qubit count in their circuit, we reach a limit where the memory required is beyond the capabilities of a single GPU. The `nvidia-mgpu` target allows for memory from additional GPUs to be pooled enabling qubit counts to be scaled.  \n",
    "\n"
   ]
  },
  {
   "cell_type": "code",
   "execution_count": 5,
   "metadata": {},
   "outputs": [],
   "source": [
    "#The nvidia-mgpu backend allows for qubit counts to scale beyond what is feasible for a single gpu \n",
    "\n",
    "#This is executed on a node with 4 A100 chips with 80GB memory each  \n",
    "\n",
    "# mgpu_result = ghz_state(n_qubits = 34, target = 'nvidia-mgpu')\n",
    "\n",
    "# mgpu_result.dump()"
   ]
  },
  {
   "attachments": {},
   "cell_type": "markdown",
   "metadata": {},
   "source": [
    "# Multiple QPUs\n",
    "\n",
    "The `nvidia-mqpu` backend allows for future workflows made possible via GPU simulation today. \n",
    "\n",
    "\n",
    "## Asynchronous data collection via batching hamiltonian terms\n",
    "\n"
   ]
  },
  {
   "attachments": {},
   "cell_type": "markdown",
   "metadata": {},
   "source": [
    "<img src=\"hsplit.png\" alt=\"Alt Text\" width=\"500\" height=\"200\">\n"
   ]
  },
  {
   "cell_type": "code",
   "execution_count": 6,
   "metadata": {},
   "outputs": [
    {
     "data": {
      "text/plain": [
       "-9.827666697940636e-05"
      ]
     },
     "execution_count": 6,
     "metadata": {},
     "output_type": "execute_result"
    }
   ],
   "source": [
    "import cudaq\n",
    "from cudaq import spin\n",
    "\n",
    "n_qubits = 10\n",
    "n_terms = 100000  \n",
    "\n",
    "cudaq.set_target('nvidia-mqpu')\n",
    "\n",
    "kernel = cudaq.make_kernel()\n",
    "\n",
    "qubits = kernel.qalloc(n_qubits)\n",
    "\n",
    "kernel.h(qubits[0])\n",
    "\n",
    "for i in range(1, n_qubits):\n",
    "    kernel.cx(qubits[0], qubits[i])\n",
    "    \n",
    "#We create a random hamiltonian with 10e5 terms\n",
    "\n",
    "hamiltonian = cudaq.SpinOperator.random(n_qubits, n_terms)   \n",
    "\n",
    "#The observe calls allows us to calculate the expectation value of the hamiltonian and automatically batches the terms and distributes them over the multiple QPUs/ GPUs\n",
    "\n",
    "exp_val = cudaq.observe(kernel, hamiltonian)\n",
    "\n",
    "exp_val.expectation_z()\n"
   ]
  },
  {
   "attachments": {},
   "cell_type": "markdown",
   "metadata": {},
   "source": [
    "## Asynchronous data collection via circuit batching\n",
    "\n",
    "<img src=\"circsplit.png\" alt=\"Alt Text\" width=\"500\" height=\"200\">\n"
   ]
  },
  {
   "cell_type": "code",
   "execution_count": 7,
   "metadata": {},
   "outputs": [],
   "source": [
    "import cudaq\n",
    "from cudaq import spin\n",
    "import numpy as np\n",
    "np.random.seed(1)\n",
    "\n",
    "cudaq.set_target('nvidia-mqpu')\n",
    "\n",
    "n_qubits = 5\n",
    "n_samples = 1000\n",
    "h = spin.z(0) \n",
    "n_parameters = n_qubits\n",
    "\n",
    "#Below we run a circuit for 1000 different input parameters \n",
    "parameters = np.random.default_rng(13).uniform(low=0, high=1, size = (n_samples,n_parameters))\n",
    "\n",
    "kernel, params = cudaq.make_kernel(list)\n",
    "\n",
    "qubits = kernel.qalloc(n_qubits)\n",
    "qubits_list = list(range(n_qubits))\n",
    "\n",
    "for i in range(n_qubits):\n",
    "    kernel.rx(params[i], qubits[i])\n"
   ]
  },
  {
   "cell_type": "code",
   "execution_count": 8,
   "metadata": {},
   "outputs": [
    {
     "name": "stdout",
     "output_type": "stream",
     "text": [
      "3.35 s ± 160 ms per loop (mean ± std. dev. of 7 runs, 1 loop each)\n"
     ]
    }
   ],
   "source": [
    "%timeit result = cudaq.observe_n(kernel, h, parameters)  #observe_n allows for parameter broadcasting "
   ]
  },
  {
   "cell_type": "code",
   "execution_count": 9,
   "metadata": {},
   "outputs": [
    {
     "name": "stdout",
     "output_type": "stream",
     "text": [
      "(1000, 5)\n",
      "4\n",
      "(250, 5) (250, 5) (250, 5) (250, 5)\n"
     ]
    }
   ],
   "source": [
    "print(parameters.shape)\n",
    "\n",
    "xi = np.split(parameters, 4)  #We split our parameters into 4 arrays since we have 4 GPUs available \n",
    "\n",
    "print(len(xi))\n",
    "\n",
    "print(xi[0].shape, xi[1].shape, xi[2].shape, xi[3].shape)"
   ]
  },
  {
   "cell_type": "code",
   "execution_count": 10,
   "metadata": {},
   "outputs": [
    {
     "name": "stdout",
     "output_type": "stream",
     "text": [
      "93 ms ± 341 µs per loop (mean ± std. dev. of 7 runs, 10 loops each)\n"
     ]
    }
   ],
   "source": [
    "%%timeit \n",
    "#Timing the execution on a single GPU vs 4 GPUs, users will see a 4x performance improvement \n",
    "\n",
    "asyncresults = []\n",
    "\n",
    "for i in range(len(xi)):\n",
    "    for j in range(xi[i].shape[0]):\n",
    "        asyncresults.append(cudaq.observe_async(kernel, h, xi[i][j,:], qpu_id = i))"
   ]
  },
  {
   "attachments": {},
   "cell_type": "markdown",
   "metadata": {},
   "source": [
    "## Noisy simulations \n",
    "\n",
    "Quantum noise can be characterised into coherent and incoherent sources of errors that arise during a computation. Coherent noise is commonly due to systematic erorrs originating from device miscalibrations, for example, gats implementing a rotation $\\theta + \\epsilon$ instead of $\\theta$.\n",
    "\n",
    "Incoherent noise has its origins in quantum states being entangled with the environment due to decoherence. This leads to mixed states which are probability distributions over pure states and are described by employing the density matrix formalism. \n",
    "\n",
    "We can model incoherent noise via quantum channels which are linear, completely positive, and trave preserving maps. The mathematical language used is of Kraus operators $ \\{ K_i \\}$ which satisfy the condition $\\sum_{i} K_i^\\dagger K_i = \\mathbb{I}$. \n",
    "\n",
    "The bit flip operation flips the qubit with probability $p$ and leaves it unchanged with probability $1-p$. This can be represented by employing Kraus operators: \n",
    "\n",
    "\n",
    "$K_0 = \\sqrt{1-p} \\begin{pmatrix}\n",
    "  1 & 0 \\\\\n",
    "  0 & 1\n",
    "\\end{pmatrix} $\n",
    "\n",
    "\n",
    "$K_0 = \\sqrt{p} \\begin{pmatrix}\n",
    "  0 & 1 \\\\\n",
    "  1 & 0\n",
    "\\end{pmatrix} $\n",
    "\n",
    "Lets implement this using CUDA Quantum "
   ]
  },
  {
   "cell_type": "code",
   "execution_count": 1,
   "metadata": {},
   "outputs": [
    {
     "name": "stdout",
     "output_type": "stream",
     "text": [
      "{ 11:1000 }\n",
      "{ 11:713 10:154 01:114 00:19 }\n"
     ]
    }
   ],
   "source": [
    "import cudaq\n",
    "import numpy as np\n",
    "\n",
    "cudaq.set_target('density-matrix-cpu')\n",
    "\n",
    "#Lets define a circuit\n",
    "n_qubits = 2\n",
    "kernel = cudaq.make_kernel()\n",
    "q = kernel.qalloc(n_qubits)\n",
    "kernel.x(q[0])\n",
    "kernel.x(q[1])\n",
    "\n",
    "#In the ideal noiseless case, we get 11 100% of the time as expected \n",
    "ideal_counts = cudaq.sample(kernel, shots_count=1000)\n",
    "ideal_counts.dump()\n",
    "\n",
    "\n",
    "#You can build your own Kraus channels \n",
    "p = 0.1 #probability of error \n",
    "\n",
    "k0 = np.sqrt(1-p) * np.array([[1.0, 0.0], [0.0, 1.0]], dtype=np.complex128)\n",
    "k1 = np.sqrt(p) * np.array([[0.0, 1.0], [1.0, 0.0]], dtype=np.complex128)\n",
    "\n",
    "bitflip = cudaq.KrausChannel([k0, k1])\n",
    "\n",
    "#You can also use built in noise channels \n",
    "depol = cudaq.DepolarizationChannel(p)\n",
    "\n",
    "#Add the noise models\n",
    "noise = cudaq.NoiseModel()\n",
    "noise.add_channel(\"x\", [0], depol)\n",
    "noise.add_channel(\"x\", [1], bitflip)\n",
    "\n",
    "#We see unwanted results due to the effects of the noise channels \n",
    "noisy_counts = cudaq.sample(kernel, noise_model=noise, shots_count=1000)\n",
    "noisy_counts.dump()\n"
   ]
  },
  {
   "attachments": {},
   "cell_type": "markdown",
   "metadata": {},
   "source": [
    "# Running on hardware\n",
    "\n",
    "CUDA Quantum can efficiently target diverse quantum computing architectures, including superconducting circuits, ion traps, neutral atoms, diamond-based, photonic systems, and more. \n",
    "\n",
    "The nvq++ compiler automatically compiles and executes the program ont he designated architecture. \n",
    "\n",
    "We have already announced hardware integrations with major QPU providers and are working on brining them online. \n",
    "\n"
   ]
  },
  {
   "cell_type": "code",
   "execution_count": null,
   "metadata": {},
   "outputs": [],
   "source": [
    "#Switching between CPUs, GPUs and QPUs is as easy as changing a string input \n",
    "\n",
    "cpu_result = ghz_state(n_qubits = 2, target = 'default')\n",
    "gpu_result = ghz_state(n_qubits = 2, target = 'nvidia')\n",
    "# qpu_result = ghz_state(n_qubits = 2, target = 'quantinuum')\n",
    "\n"
   ]
  },
  {
   "cell_type": "code",
   "execution_count": null,
   "metadata": {},
   "outputs": [],
   "source": []
  }
 ],
 "metadata": {
  "kernelspec": {
   "display_name": "Python 3",
   "language": "python",
   "name": "python3"
  },
  "language_info": {
   "codemirror_mode": {
    "name": "ipython",
    "version": 3
   },
   "file_extension": ".py",
   "mimetype": "text/x-python",
   "name": "python",
   "nbconvert_exporter": "python",
   "pygments_lexer": "ipython3",
   "version": "3.10.6"
  },
  "orig_nbformat": 4,
  "vscode": {
   "interpreter": {
    "hash": "31f2aee4e71d21fbe5cf8b01ff0e069b9275f58929596ceb00d14d90e3e16cd6"
   }
  }
 },
 "nbformat": 4,
 "nbformat_minor": 2
}
