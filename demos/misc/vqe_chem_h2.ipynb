{
 "cells": [
  {
   "cell_type": "code",
   "execution_count": null,
   "id": "171d3f22",
   "metadata": {},
   "outputs": [],
   "source": [
    "# ============================================================================ #\n",
    "# Copyright (c) 2022 - 2023 NVIDIA Corporation & Affiliates.                   #\n",
    "# All rights reserved.                                                         #\n",
    "#                                                                              #\n",
    "# This source code and the accompanying materials are made available under     #\n",
    "# the terms of the Apache License 2.0 which accompanies this distribution.     #\n",
    "# ============================================================================ #"
   ]
  },
  {
   "cell_type": "code",
   "execution_count": null,
   "id": "ebd62ff6",
   "metadata": {},
   "outputs": [],
   "source": [
    "import os\n",
    "import pytest\n",
    "import numpy as np\n",
    "\n",
    "import cudaq"
   ]
  },
  {
   "cell_type": "code",
   "execution_count": null,
   "id": "c6421927",
   "metadata": {},
   "outputs": [],
   "source": [
    "geometry = [('H', (0., 0., 0.)), ('H', (0., 0., .7474))]\n",
    "molecule, data = cudaq.chemistry.create_molecular_hamiltonian(\n",
    "        geometry, 'sto-3g', 1, 0)\n",
    "\n",
    "exact_energy = molecule.to_matrix().minimal_eigenvalue()\n",
    "print(type(molecule))\n",
    "print(\"exact_energy = \", exact_energy)\n",
    "\n",
    "# Get the number of fermions and orbitals / qubits\n",
    "numElectrons = data.n_electrons\n",
    "numQubits = 2 * data.n_orbitals\n",
    "\n",
    "print(numQubits)"
   ]
  },
  {
   "cell_type": "code",
   "execution_count": null,
   "id": "7cfe7fed",
   "metadata": {},
   "outputs": [],
   "source": [
    "# create the ansatz\n",
    "kernel, thetas = cudaq.make_kernel(list)\n",
    "qubits = kernel.qalloc(numQubits)\n",
    "\n",
    "# hartree fock state\n",
    "kernel.x(qubits[0])\n",
    "kernel.x(qubits[1])\n",
    "\n",
    "cudaq.kernels.uccsd(kernel, qubits, thetas, numElectrons, numQubits)\n",
    "\n",
    "num_parameters = cudaq.kernels.uccsd_num_parameters(numElectrons, numQubits)"
   ]
  },
  {
   "cell_type": "code",
   "execution_count": null,
   "id": "e5bcf1b3",
   "metadata": {},
   "outputs": [],
   "source": [
    "# Run VQE\n",
    "#optimizer = cudaq.optimizers.COBYLA()\n",
    "optimizer = cudaq.optimizers.Adam()\n",
    "gradient = cudaq.gradients.CentralDifference()\n",
    "#optimizer.max_iterations = 1\n",
    "\n",
    "#sys.exit()\n",
    "energy, params = cudaq.vqe(kernel=kernel, spin_operator=molecule, optimizer=optimizer,\n",
    "                gradient_strategy=gradient, parameter_count=num_parameters)\n",
    "print(energy, params)\n",
    "np.isclose(energy, -1.137, rtol=1e-3)"
   ]
  }
 ],
 "metadata": {
  "kernelspec": {
   "display_name": "Python 3 (ipykernel)",
   "language": "python",
   "name": "python3"
  },
  "language_info": {
   "codemirror_mode": {
    "name": "ipython",
    "version": 3
   },
   "file_extension": ".py",
   "mimetype": "text/x-python",
   "name": "python",
   "nbconvert_exporter": "python",
   "pygments_lexer": "ipython3",
   "version": "3.9.12"
  }
 },
 "nbformat": 4,
 "nbformat_minor": 5
}
