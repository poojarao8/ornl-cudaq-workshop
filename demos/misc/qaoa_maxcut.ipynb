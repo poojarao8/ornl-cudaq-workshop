{
 "cells": [
  {
   "cell_type": "code",
   "execution_count": null,
   "id": "26529c24",
   "metadata": {},
   "outputs": [],
   "source": [
    "import cudaq\n",
    "from cudaq import spin\n",
    "\n",
    "import numpy as np"
   ]
  },
  {
   "cell_type": "code",
   "execution_count": null,
   "id": "3869a529",
   "metadata": {},
   "outputs": [],
   "source": [
    "# Here we build up a kernel for QAOA with `p` layers, with each layer\n",
    "# containing the alternating set of unitaries corresponding to the problem\n",
    "# and the mixer Hamiltonians. The algorithm leverages the VQE algorithm\n",
    "# to compute the Max-Cut of a rectangular graph illustrated below.\n",
    "\n",
    "#       v0  0---------------------0 v1\n",
    "#           |                     |\n",
    "#           |                     |\n",
    "#           |                     |\n",
    "#           |                     |\n",
    "#       v3  0---------------------0 v2\n",
    "# The Max-Cut for this problem is 0101 or 1010.\n",
    "\n",
    "# The problem Hamiltonian"
   ]
  },
  {
   "cell_type": "code",
   "execution_count": null,
   "id": "67457775",
   "metadata": {},
   "outputs": [],
   "source": [
    "# The problem Hamiltonian\n",
    "hamiltonian = 0.5 * spin.z(0) * spin.z(1) + 0.5 * spin.z(1) * spin.z(2) \\\n",
    "       + 0.5 * spin.z(0) * spin.z(3) + 0.5 * spin.z(2) * spin.z(3)\n",
    "\n",
    "# Problem parameters.\n",
    "qubit_count: int = 4\n",
    "layer_count: int = 2\n",
    "parameter_count: int = 2 * layer_count"
   ]
  },
  {
   "cell_type": "code",
   "execution_count": null,
   "id": "87071f92",
   "metadata": {},
   "outputs": [],
   "source": [
    "def kernel_qaoa() -> cudaq.Kernel:\n",
    "    \"\"\"QAOA ansatz for Max-Cut\"\"\"\n",
    "    kernel, thetas = cudaq.make_kernel(list)\n",
    "    qreg = kernel.qalloc(qubit_count)\n",
    "\n",
    "    # Create superposition\n",
    "    kernel.h(qreg)\n",
    "\n",
    "    # Loop over the layers\n",
    "    for i in range(layer_count):\n",
    "        # Loop over the qubits\n",
    "        # Problem unitary\n",
    "        for j in range(qubit_count):\n",
    "            kernel.cx(qreg[j], qreg[(j + 1) % qubit_count])\n",
    "            kernel.rz(2.0 * thetas[i], qreg[(j + 1) % qubit_count])\n",
    "            kernel.cx(qreg[j], qreg[(j + 1) % qubit_count])\n",
    "\n",
    "        # Mixer unitary\n",
    "        for j in range(qubit_count):\n",
    "            kernel.rx(2.0 * thetas[i + layer_count], qreg[j])\n",
    "\n",
    "    return kernel"
   ]
  },
  {
   "cell_type": "code",
   "execution_count": null,
   "id": "2a41279d",
   "metadata": {},
   "outputs": [],
   "source": [
    "# Specify the optimizer and its initial parameters.\n",
    "optimizer = cudaq.optimizers.COBYLA()\n",
    "optimizer.initial_parameters = np.random.uniform(-np.pi / 8.0, np.pi / 8.0,\n",
    "                                                 parameter_count)\n",
    "print(\"Initial parameters = \", optimizer.initial_parameters)\n",
    "\n",
    "# Pass the kernel, spin operator, and optimizer to `cudaq.vqe`.\n",
    "optimal_expectation, optimal_parameters = cudaq.vqe(\n",
    "    kernel=kernel_qaoa(),\n",
    "    spin_operator=hamiltonian,\n",
    "    optimizer=optimizer,\n",
    "    parameter_count=parameter_count)\n",
    "\n",
    "# Print the optimized value and its parameters\n",
    "print(\"Optimal value = \", optimal_expectation)\n",
    "print(\"Optimal parameters = \", optimal_parameters)\n",
    "\n",
    "# Sample the circuit using the optimized parameters\n",
    "counts = cudaq.sample(kernel_qaoa(), optimal_parameters)\n",
    "counts.dump()"
   ]
  }
 ],
 "metadata": {
  "kernelspec": {
   "display_name": "Python 3 (ipykernel)",
   "language": "python",
   "name": "python3"
  },
  "language_info": {
   "codemirror_mode": {
    "name": "ipython",
    "version": 3
   },
   "file_extension": ".py",
   "mimetype": "text/x-python",
   "name": "python",
   "nbconvert_exporter": "python",
   "pygments_lexer": "ipython3",
   "version": "3.9.12"
  }
 },
 "nbformat": 4,
 "nbformat_minor": 5
}
